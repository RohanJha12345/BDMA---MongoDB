{
 "cells": [
  {
   "cell_type": "markdown",
   "metadata": {},
   "source": [
    "# 🎬 Movie Database Analysis - Project Report  \n",
    "### **Group 19**\n",
    "**Abhijeet (055002), Rohan Jha (055057)**\n"
   ]
  },
  {
   "cell_type": "markdown",
   "metadata": {},
   "source": [
    "##  1. Project Information & Data Source\n",
    "\n",
    "### **Project Name:**  \n",
    "**Movie Database Analysis using MongoDB Compass & Atlas Charts**  \n",
    "\n",
    "### **Data Source:**  \n",
    "- The movie dataset is sourced from **public movie databases** such as IMDb, TMDb, or Kaggle datasets.  \n",
    "- The dataset consists of **structured JSON documents** stored in **MongoDB Atlas**.  \n",
    "- **Key Fields in the Dataset:**  \n",
    "  - `title` (Movie name)  \n",
    "  - `year` (Release year)  \n",
    "  - `genre` (List of genres)  \n",
    "  - `rating` (IMDb rating)  \n",
    "  - `actors` (List of actors)  \n",
    "  - `director` (Director name)  \n",
    "  - `box_office` (Revenue in USD)  \n",
    "  - `runtime` (Movie duration in minutes)  \n"
   ]
  },
  {
   "cell_type": "markdown",
   "metadata": {},
   "source": [
    "\n",
    "## 2. Problem Statements\n",
    "\n",
    "#### **1️ Understanding Movie Success Factors**\n",
    "The movie industry is highly competitive, and understanding what makes a movie successful is crucial.  \n",
    "Factors like **IMDb ratings, genre, cast, director, and box office revenue** play a key role in determining success.  \n",
    "How can we **identify key attributes** that contribute to a movie's success?\n",
    "\n",
    "#### **2️ Genre Popularity & Trends**\n",
    "Different movie genres have different audience appeal.  \n",
    "Some genres are more **critically acclaimed**, while others generate **higher box office revenue**.  \n",
    "How has **genre popularity changed over time**, and which genres perform best?\n",
    "\n",
    "#### **3️ Movie Ratings vs. Box Office Revenue**\n",
    "A high IMDb rating does not always translate to high box office earnings.  \n",
    "Which **genres and types of movies** achieve both **high ratings and strong financial performance**?  \n",
    "Is there a **correlation between IMDb rating and revenue**?\n",
    "\n",
    "#### **4️ Actor & Director Impact on Movie Performance**\n",
    "Certain actors and directors consistently deliver **high-rated or high-grossing** movies.  \n",
    "Which **actors and directors have the most influence** on a movie's success?  \n",
    "Do some actors perform better in specific genres?\n",
    "\n",
    "#### **5️ Evolution of Movie Production Over Time**\n",
    "The **number of movies produced annually** has significantly increased.  \n",
    "What are the key **historical trends in movie releases**?  \n",
    "How has the **runtime, genre preference, and movie format** changed over decades?\n",
    "\n",
    "#### **6️ Optimal Movie Runtime for Audience Engagement**\n",
    "Longer movies allow for **more storytelling depth**, but **shorter movies retain audience attention better**.  \n",
    "What is the **ideal movie runtime**, and does it vary by genre?  \n",
    "How does runtime affect **IMDb ratings and box office performance**?\n",
    "\n",
    "#### **7️ The Rise of Streaming & Impact on Movie Trends**\n",
    "Streaming platforms like **Netflix, Amazon Prime, and Disney+** have changed how movies are produced and consumed.  \n",
    "How has the **growth of streaming services** impacted **movie genres, runtimes, and audience preferences**?\n",
    "\n",
    "#### **8️ Awards & Critical Acclaim**\n",
    "Some genres win **more awards** than others, affecting their prestige and marketability.  \n",
    "Which **genres and types of movies** have historically won the most **awards**?  \n",
    "How does **award recognition correlate with IMDb ratings and revenue**?\n",
    "\n",
    "#### **9️ Recommendations for Movie Studios & Streaming Platforms**\n",
    "Using data-driven insights, **how can production houses and streaming services**:  \n",
    "- Optimize **genre selection** for audience engagement?  \n",
    "- Improve **casting and director choices**?  \n",
    "- Balance **box office success with critical acclaim**?   \n",
    "\n",
    "##  Objective  \n",
    "\n",
    "The goal of this project is to:  \n",
    " **Analyze trends in movie data** using MongoDB queries & visualizations.  \n",
    " **Find top-performing movies** based on ratings, genres, and revenue.  \n",
    " **Identify patterns in movie releases** (year-wise, genre popularity, actor collaborations).  \n",
    " **Understand factors affecting movie success** (rating vs. revenue, genre impact).  \n",
    " **Provide recommendations** for movie production strategies.  \n",
    "\n"
   ]
  },
  {
   "cell_type": "markdown",
   "metadata": {},
   "source": [
    "##  3. Analysis & Queries  \n",
    "\n",
    "###  **Query 1: Top 5 Highest-Rated Movies**\n",
    "```json\n",
    "[\n",
    "  { \"$sort\": { \"rating\": -1 } },\n",
    "  { \"$limit\": 5 },\n",
    "  { \"$project\": { \"_id\": 0, \"title\": 1, \"rating\": 1 } }\n",
    "]\n"
   ]
  },
  {
   "cell_type": "markdown",
   "metadata": {},
   "source": [
    "```json\n",
    "[\n",
    "  { \"$unwind\": \"$genre\" },\n",
    "  { \"$group\": { \"_id\": \"$genre\", \"count\": { \"$sum\": 1 } } },\n",
    "  { \"$sort\": { \"count\": -1 } }\n",
    "]\n",
    "```"
   ]
  },
  {
   "cell_type": "markdown",
   "metadata": {},
   "source": [
    "```json\n",
    "[\n",
    "  { \"$group\": { \"_id\": \"$year\", \"count\": { \"$sum\": 1 } } },\n",
    "  { \"$sort\": { \"_id\": 1 } }\n",
    "]\n",
    "```"
   ]
  },
  {
   "cell_type": "markdown",
   "metadata": {},
   "source": [
    "```json\n",
    "[\n",
    "  { \"$sort\": { \"box_office\": -1 } },\n",
    "  { \"$limit\": 10 },\n",
    "  { \"$project\": { \"_id\": 0, \"title\": 1, \"box_office\": 1 } }\n",
    "]\n",
    "```"
   ]
  },
  {
   "cell_type": "markdown",
   "metadata": {},
   "source": [
    "```json\n",
    "[\n",
    "  { \"$unwind\": \"$actors\" },\n",
    "  { \"$group\": { \"_id\": \"$actors\", \"count\": { \"$sum\": 1 } } },\n",
    "  { \"$sort\": { \"count\": -1 } },\n",
    "  { \"$limit\": 5 }\n",
    "]\n",
    "```"
   ]
  },
  {
   "cell_type": "markdown",
   "metadata": {},
   "source": [
    "![Image](0.png)"
   ]
  },
  {
   "cell_type": "markdown",
   "metadata": {},
   "source": [
    "![Image](1.png)"
   ]
  },
  {
   "cell_type": "markdown",
   "metadata": {},
   "source": [
    "![Image](2.png)"
   ]
  },
  {
   "cell_type": "markdown",
   "metadata": {},
   "source": [
    "![Image](3.png)"
   ]
  },
  {
   "cell_type": "markdown",
   "metadata": {},
   "source": [
    "![Image](4.png)"
   ]
  },
  {
   "cell_type": "markdown",
   "metadata": {},
   "source": [
    "![Image](5.png)"
   ]
  },
  {
   "cell_type": "markdown",
   "metadata": {},
   "source": [
    "![Image](6.png)"
   ]
  },
  {
   "cell_type": "markdown",
   "metadata": {},
   "source": [
    "![Image](7.png)"
   ]
  },
  {
   "cell_type": "markdown",
   "metadata": {},
   "source": [
    "![Image](8.png)"
   ]
  },
  {
   "cell_type": "markdown",
   "metadata": {},
   "source": [
    "![Image](9.png)"
   ]
  },
  {
   "cell_type": "markdown",
   "metadata": {},
   "source": [
    "![Image](Movie%20Analytics%20Dashboard.png)"
   ]
  },
  {
   "cell_type": "markdown",
   "metadata": {},
   "source": [
    "##  4. Observations  \n",
    "\n",
    " **Genre Trends:**  \n",
    "- **Action, Comedy, and Drama** are the most common genres.  \n",
    "- **Sci-Fi & Fantasy movies** tend to have **higher IMDb ratings** on average.  \n",
    "\n",
    " **Yearly Movie Production Trends:**  \n",
    "- A **gradual increase** in the number of movies released post-2000.  \n",
    "- **2020 shows a decline** (likely due to COVID-19 pandemic effects).  \n",
    "\n",
    " **Top-Performing Movies:**  \n",
    "- High IMDb ratings **do not always** translate to high box-office earnings.  \n",
    "- **Superhero movies** dominate the highest-grossing category.  \n",
    "\n",
    " **Actor & Director Insights:**  \n",
    "- Certain actors appear **frequently in blockbuster movies** (e.g., Leonardo DiCaprio, Robert Downey Jr.).  \n",
    "- Directors like **Christopher Nolan & Steven Spielberg** consistently produce **high-rated & high-grossing** films. \n",
    "\n",
    "##  Observations from Movie Analytics Dashboard\n",
    "\n",
    "##### **1️ Genre Popularity Over Time**\n",
    "- The **number of movies produced** has significantly increased over the years, especially after **1980**.\n",
    "- The **rise of digital streaming platforms** has contributed to the increasing number of movie releases.\n",
    "- **Action, Drama, and Comedy** continue to dominate the annual release trends.\n",
    "\n",
    "##### **2️ Annual Movie Releases by Genre**\n",
    "- **Action, Drama, and Comedy** have the highest number of releases.\n",
    "- **Fantasy and Sci-Fi movies** have seen a steady increase in recent decades.\n",
    "- **Documentaries and Independent films** are gaining popularity.\n",
    "\n",
    "##### **3️ Average IMDb Ratings by Genre**\n",
    "- **Documentary, War, and Biography** movies tend to have **higher IMDb ratings**.\n",
    "- **Action and Horror movies** generally receive lower ratings.\n",
    "- **Critically acclaimed movies** are often from niche genres.\n",
    "\n",
    "##### **4️ Actor Appearance Frequency by Genre**\n",
    "- Some actors frequently appear in **specific genres**, especially **Romance, Drama, and Action**.\n",
    "- **A-list actors** tend to dominate box-office performance in high-budget movies.\n",
    "- **Character actors** often specialize in specific genres like Horror or Sci-Fi.\n",
    "\n",
    "##### **5️ Top-Rated Action Movies**\n",
    "- The **highest-rated Action movies** include well-known classics.\n",
    "- **Strong correlation** between a movie’s **director, cast, and IMDb rating**.\n",
    "- Well-directed action films tend to perform well both critically and commercially.\n",
    "\n",
    "##### **6️ Evolution of Movie Genres Over the Years**\n",
    "- **Sci-Fi, Fantasy, and Animation genres** have grown significantly over time.\n",
    "- **Western movies**, once dominant, have declined in popularity.\n",
    "- Advances in **CGI & VFX technology** have boosted genres like Sci-Fi and Superhero films.\n",
    "\n",
    "##### **7️ Average Movie Runtime by Genre**\n",
    "- **History, Biography, and Musical movies** have the longest runtimes.\n",
    "- **Animation and Horror movies** tend to be shorter in duration.\n",
    "- **Movies with longer runtimes** are often **critically acclaimed** but may perform worse at the box office.\n",
    "\n",
    "##### **8️ Average Ratings Breakdown by Movie Genre**\n",
    "- **Film-Noir and History genres** have some of the highest IMDb ratings.\n",
    "- **Comedy and Horror movies** have more varied ratings, with both **hits and flops**.\n",
    "- **Drama films** tend to be the most awarded and critically analyzed.\n",
    "\n",
    "##### **9️ Trends in Average Movie Runtime Over the Years**\n",
    "- The **average runtime of movies** has remained stable between **100-130 minutes**.\n",
    "- **Older movies (pre-1980s)** had longer runtimes, while **modern audiences** prefer slightly shorter movies.\n",
    "- Streaming platforms may be influencing **shorter runtimes** for better engagement.\n",
    "\n",
    "##### **10 Awards and Recognitions by Genre**\n",
    "- **Drama and Romance movies** win the most awards.\n",
    "- **Action and Comedy movies** perform well commercially but receive fewer awards.\n",
    "- **Historical and War movies** often win technical and screenplay awards.\n",
    "\n"
   ]
  },
  {
   "cell_type": "markdown",
   "metadata": {},
   "source": [
    "##  Insights & Recommendations  \n",
    "\n",
    "##### **1️ For Movie Producers**\n",
    " **Invest in Sci-Fi and Action genres** for higher audience engagement and box-office success.  \n",
    " **Consider producing Biography and Documentary films** for higher IMDb ratings and award recognition.  \n",
    " **Leverage franchise potential** (e.g., Superhero, Sci-Fi, and Fantasy) as they consistently perform well.  \n",
    " **Ensure a strong script and storytelling** for longer movies (History, Biography) to maintain audience engagement.  \n",
    "\n",
    "---\n",
    "\n",
    "##### **2️ For Streaming Platforms (Netflix, Amazon Prime, Disney+)**\n",
    " **Prioritize critically acclaimed genres** such as Documentary, Biography, and Drama.  \n",
    " **Increase investment in Sci-Fi & Animation**, as their popularity is growing rapidly.  \n",
    " **Optimize movie runtimes** to stay within the ideal range of **100-130 minutes** for better audience retention.  \n",
    " **Analyze actor-director trends** to secure exclusive content deals with high-performing teams.  \n",
    "\n",
    "---\n",
    "\n",
    "##### **3️ For Marketing & Distribution Teams**\n",
    " **Use IMDb ratings and genre trends** in promotional campaigns to highlight audience interest.  \n",
    " **Leverage popular actors and directors** to maximize audience reach and pre-release hype.  \n",
    " **Promote movies based on storytelling depth** in genres like Drama and Romance for awards and critical acclaim.  \n",
    " **Target regional markets** by analyzing which genres perform well in different demographics.  \n",
    "\n",
    "---\n",
    "\n",
    "##### **4️ For Film Festival & Award Recognition**\n",
    " **Focus on Drama, War, and Biography movies**, as they have the highest award-winning potential.  \n",
    " **Develop strong screenplays and character-driven narratives**, which are more likely to receive critical acclaim.  \n",
    " **Optimize movie releases for award seasons** to increase visibility and impact.  \n",
    "\n",
    "---\n",
    "\n",
    "##### **5️ For Future Industry Trends**\n",
    " **Monitor the impact of streaming platforms** on movie trends and audience preferences.  \n",
    " **Invest in data-driven decision-making** to analyze box-office performance before movie releases.  \n",
    " **Leverage AI & Big Data** to predict audience demand and optimize production strategies.  \n",
    " **Analyze decade-based trends** to determine which genres and storytelling techniques remain timeless.  "
   ]
  },
  {
   "cell_type": "markdown",
   "metadata": {},
   "source": [
    "##  6. Conclusion & Next Steps  \n",
    "This project provided **data-driven insights** into the movie industry using **MongoDB Compass & Atlas Charts**.  \n",
    "\n",
    " **Next Steps:**  \n",
    " - **Expand dataset** by adding user reviews and streaming performance data.  \n",
    " - **Analyze international movie trends** beyond Hollywood.  \n",
    " - **Apply Machine Learning** for **predicting movie success** based on historical data.  \n",
    "\n",
    " **With these insights, stakeholders can make informed decisions in movie production, marketing, and streaming services!**\n",
    "\n",
    "The **movie industry is evolving**, and **data-driven insights** can help:  \n",
    "- Identify **key success factors** for movies.  \n",
    "- Track **trends in audience preferences**.  \n",
    "- Provide **actionable insights** for production studios, streaming platforms, and marketers.  \n",
    "\n",
    "🎬 **With these recommendations, stakeholders can make more informed decisions to maximize both financial success and critical acclaim!** \n"
   ]
  }
 ],
 "metadata": {
  "kernelspec": {
   "display_name": ".venv",
   "language": "python",
   "name": "python3"
  },
  "language_info": {
   "codemirror_mode": {
    "name": "ipython",
    "version": 3
   },
   "file_extension": ".py",
   "mimetype": "text/x-python",
   "name": "python",
   "nbconvert_exporter": "python",
   "pygments_lexer": "ipython3",
   "version": "3.11.9"
  }
 },
 "nbformat": 4,
 "nbformat_minor": 2
}
